{
  "nbformat": 4,
  "nbformat_minor": 0,
  "metadata": {
    "colab": {
      "provenance": []
    },
    "kernelspec": {
      "name": "python3",
      "display_name": "Python 3"
    },
    "language_info": {
      "name": "python"
    }
  },
  "cells": [
    {
      "cell_type": "code",
      "execution_count": 7,
      "metadata": {
        "colab": {
          "base_uri": "https://localhost:8080/"
        },
        "id": "wV8yhwl7I6--",
        "outputId": "5c3a1516-19ac-4bf1-b260-d6e51ff4465d"
      },
      "outputs": [
        {
          "output_type": "stream",
          "name": "stdout",
          "text": [
            "[1 2 3 4]\n"
          ]
        }
      ],
      "source": [
        "import numpy as np\n",
        "list = (1,2,3,4)\n",
        "array = np.array(list)\n",
        "print(array)"
      ]
    },
    {
      "cell_type": "code",
      "source": [
        "array = np.random.rand(4)\n",
        "zero = np.zeros(4)\n",
        "print(zero)\n",
        "print(array)"
      ],
      "metadata": {
        "colab": {
          "base_uri": "https://localhost:8080/"
        },
        "id": "OExcUqcnJ8dp",
        "outputId": "ed552521-b464-4071-9d50-00e079a5632c"
      },
      "execution_count": 18,
      "outputs": [
        {
          "output_type": "stream",
          "name": "stdout",
          "text": [
            "[0. 0. 0. 0.]\n",
            "[0.83509511 0.92643815 0.81357186 0.82541262]\n"
          ]
        }
      ]
    },
    {
      "cell_type": "code",
      "source": [
        "array = np.array([[1,2,3,4],[4,5,6,7]])\n",
        "print(array)\n",
        "print(array.shape)\n",
        "array3 = np.array([[[1,2,3,4],[1,2,3,4],[4,5,6,7]]])\n",
        "print(array3.ndim)"
      ],
      "metadata": {
        "colab": {
          "base_uri": "https://localhost:8080/"
        },
        "id": "00DNHKpxKw-m",
        "outputId": "ccfd571b-d96d-4faa-e611-10501ae7ccdc"
      },
      "execution_count": 32,
      "outputs": [
        {
          "output_type": "stream",
          "name": "stdout",
          "text": [
            "[[1 2 3 4]\n",
            " [4 5 6 7]]\n",
            "(2, 4)\n",
            "3\n"
          ]
        }
      ]
    },
    {
      "cell_type": "code",
      "source": [
        "print(array3[0][0][0])\n",
        "print(array3[0][0][-1])"
      ],
      "metadata": {
        "colab": {
          "base_uri": "https://localhost:8080/"
        },
        "id": "rreZ5h7tMKQX",
        "outputId": "d39617b0-7291-4f54-881b-2bfe20bf30f3"
      },
      "execution_count": 36,
      "outputs": [
        {
          "output_type": "stream",
          "name": "stdout",
          "text": [
            "1\n",
            "4\n"
          ]
        }
      ]
    },
    {
      "cell_type": "code",
      "source": [
        "array1 = np.array([[1,2,3,4],[4,5,6,7]])\n",
        "array2 = np.array([[1,2,3,4],[4,4,4,5]])\n",
        "np.concatenate([array1,array2])\n",
        "print(np.vstack([array1,array2]))"
      ],
      "metadata": {
        "colab": {
          "base_uri": "https://localhost:8080/"
        },
        "id": "KOJgKUQfMRf7",
        "outputId": "2719f1c2-3e62-40a4-e0e2-31490170f196"
      },
      "execution_count": 44,
      "outputs": [
        {
          "output_type": "stream",
          "name": "stdout",
          "text": [
            "[[1 2 3 4]\n",
            " [4 5 6 7]\n",
            " [1 2 3 4]\n",
            " [4 4 4 5]]\n"
          ]
        }
      ]
    },
    {
      "cell_type": "code",
      "source": [
        "print(array1[0,:2])"
      ],
      "metadata": {
        "colab": {
          "base_uri": "https://localhost:8080/"
        },
        "id": "pK_Rn7dAMpM8",
        "outputId": "4aec9705-57a6-48a1-c461-533ffc36e020"
      },
      "execution_count": 41,
      "outputs": [
        {
          "output_type": "stream",
          "name": "stdout",
          "text": [
            "[1 2]\n"
          ]
        }
      ]
    },
    {
      "cell_type": "code",
      "source": [
        "print(array1[:,1])"
      ],
      "metadata": {
        "colab": {
          "base_uri": "https://localhost:8080/"
        },
        "id": "fgQyx76lOvCZ",
        "outputId": "182d9c14-f63b-44bd-da94-fa1f6123d81c"
      },
      "execution_count": 42,
      "outputs": [
        {
          "output_type": "stream",
          "name": "stdout",
          "text": [
            "[2 5]\n"
          ]
        }
      ]
    },
    {
      "cell_type": "code",
      "source": [
        "a = np.array([1,2,3,4] , dtype = 'float64')\n",
        "print(a)"
      ],
      "metadata": {
        "colab": {
          "base_uri": "https://localhost:8080/"
        },
        "id": "oHBSEliNPN4C",
        "outputId": "305bb443-467d-47f5-af7d-88433688a4b3"
      },
      "execution_count": 48,
      "outputs": [
        {
          "output_type": "stream",
          "name": "stdout",
          "text": [
            "[1. 2. 3. 4.]\n"
          ]
        }
      ]
    }
  ]
}